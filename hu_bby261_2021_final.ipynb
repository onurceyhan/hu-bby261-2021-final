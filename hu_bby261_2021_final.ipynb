{
  "nbformat": 4,
  "nbformat_minor": 0,
  "metadata": {
    "colab": {
      "name": "hu-bby261-2021-final.ipynb",
      "provenance": [],
      "mount_file_id": "1sSdv8A9-GTpuOkXNSgh6Dph04P40TpVN",
      "authorship_tag": "ABX9TyO2zg2p/md5lSBruU/cDWK+",
      "include_colab_link": true
    },
    "kernelspec": {
      "name": "python3",
      "display_name": "Python 3"
    },
    "language_info": {
      "name": "python"
    }
  },
  "cells": [
    {
      "cell_type": "markdown",
      "metadata": {
        "id": "view-in-github",
        "colab_type": "text"
      },
      "source": [
        "<a href=\"https://colab.research.google.com/github/onurceyhan/hu-bby261-2021-final/blob/main/hu_bby261_2021_final.ipynb\" target=\"_parent\"><img src=\"https://colab.research.google.com/assets/colab-badge.svg\" alt=\"Open In Colab\"/></a>"
      ]
    },
    {
      "cell_type": "code",
      "execution_count": 47,
      "metadata": {
        "colab": {
          "base_uri": "https://localhost:8080/",
          "height": 664
        },
        "id": "ANdYEFghGUPT",
        "outputId": "766c983c-c60f-48ee-d52b-4dc547c23247"
      },
      "outputs": [
        {
          "output_type": "stream",
          "name": "stdout",
          "text": [
            "MNIST'in Rakam Veri Seti Tahmin Programına Hoş Geldiniz!\n",
            "Epoch sayısını giriniz:4\n",
            "x_train Şekli: (60000, 28, 28, 1)\n",
            "x_train içerisindeki resim sayısı: 60000\n",
            "x_test içerisindeki resim sayısı: 10000\n",
            "Model yaratılıyor...\n",
            "Model derleniyor...\n",
            "Model eğitiliyor...\n",
            "Epoch 1/4\n",
            "1875/1875 [==============================] - 6s 3ms/step - loss: 0.2281 - accuracy: 0.9316\n",
            "Epoch 2/4\n",
            "1875/1875 [==============================] - 6s 3ms/step - loss: 0.0973 - accuracy: 0.9697\n",
            "Epoch 3/4\n",
            "1875/1875 [==============================] - 6s 3ms/step - loss: 0.0678 - accuracy: 0.9789\n",
            "Epoch 4/4\n",
            "1875/1875 [==============================] - 6s 3ms/step - loss: 0.0510 - accuracy: 0.9838\n",
            "Model eğitildi!\n",
            "1)MNIST veri setinden tahmin\n",
            "2) Kendi çizdiğim rakamların tahmini\n",
            "Açmak istediğiniz yerin numarasını giriniz.2\n",
            "Tahmin Edilen Sayı: 1\n"
          ]
        },
        {
          "output_type": "display_data",
          "data": {
            "image/png": "[encoded data removed]",
            "text/plain": [
              "<Figure size 432x288 with 1 Axes>"
            ]
          },
          "metadata": {
            "needs_background": "light"
          }
        },
        {
          "output_type": "stream",
          "name": "stdout",
          "text": [
            "None\n",
            "None\n"
          ]
        }
      ],
      "source": [
        "import tensorflow as tf\n",
        "(x_train, y_train), (x_test, y_test) = tf.keras.datasets.mnist.load_data()\n",
        "\n",
        "import matplotlib.pyplot as plt\n",
        "import time\n",
        "import cv2\n",
        "import numpy as np\n",
        "\n",
        "print(\"MNIST'in Rakam Veri Seti Tahmin Programına Hoş Geldiniz!\")\n",
        "time.sleep(1)\n",
        "epochgiris = int(input(\"Epoch sayısını giriniz:\"))\n",
        "\n",
        "\n",
        "\n",
        "x_train = x_train.reshape(x_train.shape[0], 28, 28, 1)\n",
        "x_test = x_test.reshape(x_test.shape[0], 28, 28, 1)\n",
        "input_shape = (28, 28, 1)\n",
        "\n",
        "x_train = x_train.astype('float32')\n",
        "x_test = x_test.astype('float32')\n",
        "\n",
        "x_train /= 255\n",
        "x_test /= 255\n",
        "print('x_train Şekli:', x_train.shape)\n",
        "print('x_train içerisindeki resim sayısı:', x_train.shape[0])\n",
        "print('x_test içerisindeki resim sayısı:', x_test.shape[0])\n",
        "\n",
        "\n",
        "from tensorflow.keras.models import Sequential\n",
        "from tensorflow.keras.layers import Dense, Conv2D, Dropout, Flatten, MaxPooling2D\n",
        "print(\"Model yaratılıyor...\")\n",
        "time.sleep(1)\n",
        "model = Sequential()\n",
        "model = tf.keras.models.Sequential()\n",
        "model.add(tf.keras.layers.Flatten())\n",
        "model.add(tf.keras.layers.Dense(128, activation=tf.nn.relu))\n",
        "model.add(tf.keras.layers.Dense(128, activation=tf.nn.relu))\n",
        "model.add(tf.keras.layers.Dense(10, activation=tf.nn.softmax))\n",
        "print(\"Model derleniyor...\")\n",
        "time.sleep(1)\n",
        "model.compile(optimizer='adam', \n",
        "              loss='sparse_categorical_crossentropy', \n",
        "              metrics=['accuracy'])\n",
        "print (\"Model eğitiliyor...\")\n",
        "time.sleep(1)\n",
        "model.fit(x=x_train,y=y_train, epochs= epochgiris)\n",
        "def verisetitahmin():\n",
        "  numarayaz = int(input(\"Resim numarasını giriniz(1-10000):\"))\n",
        "  model.evaluate(x_test, y_test)\n",
        "  image_index = numarayaz\n",
        "  plt.imshow(x_test[image_index].reshape(28, 28),cmap='Blues')\n",
        "  pred = model.predict(x_test[image_index].reshape(1, 28, 28, 1))\n",
        "  print(\"Tahmin edilen sayı:\", pred.argmax())\n",
        "def resimtahmin():\n",
        "  img = cv2.imread(r\"/content/1.png\")\n",
        "  img = cv2.resize(img, (28,28))\n",
        "  img = cv2.cvtColor(img, cv2.COLOR_BGR2GRAY)\n",
        "  img = cv2.bitwise_not(img) # invert image\n",
        "  plt.imshow(img, cmap = plt.cm.binary)\n",
        "  img = np.reshape(img, [1,28,28])\n",
        "  predictionsB = model.predict(img)\n",
        "  print(\"Tahmin Edilen Sayı:\", np.argmax(predictionsB[0]))\n",
        "  plt.show()\n",
        "def menu():\n",
        "    print(\"Model eğitildi!\")\n",
        "    print(\"1)MNIST veri setinden tahmin\\n2) Kendi çizdiğim rakamların tahmini\")\n",
        "    acilis = input(\"Açmak istediğiniz yerin numarasını giriniz.\")\n",
        "    numaralar = (\"1\",\"2\")\n",
        "    if acilis == numaralar[0]:\n",
        "        print(verisetitahmin())\n",
        "    elif acilis == numaralar[1]:\n",
        "        print(resimtahmin())\n",
        "    else:\n",
        "        print(\"Geçersiz bir numara girdiniz!\")\n",
        "        return menu()\n",
        "print(menu())\n",
        "\n",
        "\n",
        "\n",
        "\n",
        "\n"
      ]
    }
  ]
}